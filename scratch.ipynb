{
 "cells": [
  {
   "cell_type": "code",
   "execution_count": 1,
   "metadata": {},
   "outputs": [],
   "source": [
    "import torch\n"
   ]
  },
  {
   "cell_type": "code",
   "execution_count": 2,
   "metadata": {},
   "outputs": [],
   "source": [
    "samples = torch.load('samples.pt')\n",
    "latent = torch.load('latent.pt')"
   ]
  },
  {
   "cell_type": "code",
   "execution_count": 4,
   "metadata": {},
   "outputs": [
    {
     "name": "stdout",
     "output_type": "stream",
     "text": [
      "alpha: 4.5\n",
      "1/5: 0/160 | alpha: 4.500000 | sigma: 1.500000 | error: 5.353302 | time: 0:00:02.019244 | eta: 0:00:14.134705\n",
      "2/5: 40/160 | alpha: 3.375000 | sigma: 1.125000 | error: 3.353447 | time: 0:00:04.373520 | eta: 0:00:07.289200\n",
      "3/5: 80/160 | alpha: 2.250000 | sigma: 0.750000 | error: 1.395139 | time: 0:00:06.700454 | eta: 0:00:04.020272\n",
      "4/5: 120/160 | alpha: 1.125000 | sigma: 0.375000 | error: 1.252311 | time: 0:00:09.092078 | eta: 0:00:01.298868\n",
      "5/5: 160/160 | alpha: 0.000000 | sigma: 0.000000 | error: 1.309376 | time: 0:00:11.444885 | eta: -1 day, 23:59:58.728346\n"
     ]
    }
   ],
   "source": [
    "from quicksom.som import SOM\n",
    "\n",
    "X = samples[0,0]\n",
    "dim = X.shape[0]\n",
    "n_epochs = 5\n",
    "som = SOM(m=3, n=3, dim=dim, n_epoch=n_epochs, centroids=)\n",
    "learning_error= som.fit(X)\n"
   ]
  }
 ],
 "metadata": {
  "kernelspec": {
   "display_name": "pygeometric",
   "language": "python",
   "name": "python3"
  },
  "language_info": {
   "codemirror_mode": {
    "name": "ipython",
    "version": 3
   },
   "file_extension": ".py",
   "mimetype": "text/x-python",
   "name": "python",
   "nbconvert_exporter": "python",
   "pygments_lexer": "ipython3",
   "version": "3.8.17"
  }
 },
 "nbformat": 4,
 "nbformat_minor": 2
}
